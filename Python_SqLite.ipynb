{
  "nbformat": 4,
  "nbformat_minor": 0,
  "metadata": {
    "colab": {
      "name": "Python_SqLite.ipynb",
      "provenance": [],
      "authorship_tag": "ABX9TyMCzEzlFg8HgrflEOR4HxcW",
      "include_colab_link": true
    },
    "kernelspec": {
      "name": "python3",
      "display_name": "Python 3"
    },
    "language_info": {
      "name": "python"
    }
  },
  "cells": [
    {
      "cell_type": "markdown",
      "metadata": {
        "id": "view-in-github",
        "colab_type": "text"
      },
      "source": [
        "<a href=\"https://colab.research.google.com/github/franciscosousa1971/dados_python/blob/main/Python_SqLite.ipynb\" target=\"_parent\"><img src=\"https://colab.research.google.com/assets/colab-badge.svg\" alt=\"Open In Colab\"/></a>"
      ]
    },
    {
      "cell_type": "code",
      "metadata": {
        "id": "IdeIHESI-jkz"
      },
      "source": [
        "# Importando o módulo de acesso ao SQLite.\n",
        "import sqlite3\n",
        "# Cria uma conexão com o banco de dados.\n",
        "con = sqlite3.connect('agenda.db')"
      ],
      "execution_count": null,
      "outputs": []
    },
    {
      "cell_type": "code",
      "metadata": {
        "id": "tYsznIol_2eV"
      },
      "source": [
        "# Criando um cursor \n",
        "cur = con.cursor()"
      ],
      "execution_count": null,
      "outputs": []
    },
    {
      "cell_type": "code",
      "metadata": {
        "id": "gHEpo3NhBCYu"
      },
      "source": [
        "# Cria uma instrução sql\n",
        "sql_create = 'create table contatos '\\\n",
        "'(id integer primary key, '\\\n",
        "'nome varchar(100), '\\\n",
        "'telefone varchar(20))'"
      ],
      "execution_count": null,
      "outputs": []
    },
    {
      "cell_type": "code",
      "metadata": {
        "id": "-51ZGGVaBfHj"
      },
      "source": [
        "# Executando a instrução sql no cursor\n",
        "cur.execute(sql_create)"
      ],
      "execution_count": null,
      "outputs": []
    },
    {
      "cell_type": "code",
      "metadata": {
        "id": "TU7Qjl4nBsus"
      },
      "source": [
        "# Executando outra instrução SQL para inserir registros\n",
        "sql_insert = 'insert into contatos values (?, ?, ?)'"
      ],
      "execution_count": null,
      "outputs": []
    },
    {
      "cell_type": "code",
      "metadata": {
        "id": "3gQTJRTaDlnf"
      },
      "source": [
        "recset = [(1, 'Francisco Sousa', '985779113'),\n",
        "          (2, 'Amanda Sousa', '981229068'),\n",
        "          (3, 'Carmen Goreth', '980454728')]\n",
        "\n",
        "# Inserindo os registros\n",
        "for rec in recset:\n",
        "    cur.execute(sql_insert, rec)"
      ],
      "execution_count": null,
      "outputs": []
    },
    {
      "cell_type": "code",
      "metadata": {
        "id": "BwMXWZ-kDmAR"
      },
      "source": [
        "# Grava a transação\n",
        "con.commit()"
      ],
      "execution_count": null,
      "outputs": []
    },
    {
      "cell_type": "code",
      "metadata": {
        "id": "79aEsjqgD3Bl"
      },
      "source": [
        "# Executando SELECT para selecionar registros\n",
        "sql_select = 'select * from contatos'"
      ],
      "execution_count": null,
      "outputs": []
    },
    {
      "cell_type": "code",
      "metadata": {
        "id": "GX6fXYuVEdE-"
      },
      "source": [
        "# Seleciona e recupera os registros\n",
        "cur.execute(sql_select)\n",
        "dados = cur.fetchall()"
      ],
      "execution_count": null,
      "outputs": []
    },
    {
      "cell_type": "code",
      "metadata": {
        "id": "ls8KaddBEryx"
      },
      "source": [
        "# Mostra os dados gravados no banco\n",
        "for linha in dados:\n",
        "    print (' Id: %d, Nome: %s, Telefone: %s \\n' % linha)"
      ],
      "execution_count": null,
      "outputs": []
    },
    {
      "cell_type": "code",
      "metadata": {
        "id": "2dBKHyAaFPa4"
      },
      "source": [
        "# Fecha a conexão\n",
        "con.close()"
      ],
      "execution_count": null,
      "outputs": []
    }
  ]
}