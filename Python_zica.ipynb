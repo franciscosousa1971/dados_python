{
  "nbformat": 4,
  "nbformat_minor": 0,
  "metadata": {
    "colab": {
      "name": "Python_zica.ipynb",
      "provenance": [],
      "mount_file_id": "1Bb8CwqI4xp2iCLUMS-lTK2vTBlJ0nCk9",
      "authorship_tag": "ABX9TyMXL9TmTHoo/l3arjTJhpju",
      "include_colab_link": true
    },
    "kernelspec": {
      "name": "python3",
      "display_name": "Python 3"
    },
    "language_info": {
      "name": "python"
    }
  },
  "cells": [
    {
      "cell_type": "markdown",
      "metadata": {
        "id": "view-in-github",
        "colab_type": "text"
      },
      "source": [
        "<a href=\"https://colab.research.google.com/github/franciscosousa1971/dados_python/blob/main/Python_zica.ipynb\" target=\"_parent\"><img src=\"https://colab.research.google.com/assets/colab-badge.svg\" alt=\"Open In Colab\"/></a>"
      ]
    },
    {
      "cell_type": "code",
      "metadata": {
        "id": "cSFUQUVUAO1H"
      },
      "source": [
        "# Usando o método read_csv e importar os daos do Google Drive\n",
        "import pandas as pd\n",
        "df = pd.read_csv(\"/content/drive/MyDrive/zica_dados.csv\", header=0, sep=\",\")"
      ],
      "execution_count": null,
      "outputs": []
    },
    {
      "cell_type": "code",
      "metadata": {
        "id": "1jjf7MziTPDc"
      },
      "source": [
        "# Verificando a info() do df\n",
        "df.info()"
      ],
      "execution_count": null,
      "outputs": []
    },
    {
      "cell_type": "code",
      "metadata": {
        "id": "lXGxxP88N85Y"
      },
      "source": [
        "# Imprimindo as primeiras linhas\n",
        "df.head()"
      ],
      "execution_count": null,
      "outputs": []
    },
    {
      "cell_type": "code",
      "metadata": {
        "id": "g1TcP862Bnmv"
      },
      "source": [
        "df.dropna(axis=0,inplace=True)\n",
        "df"
      ],
      "execution_count": null,
      "outputs": []
    },
    {
      "cell_type": "code",
      "metadata": {
        "id": "cIuNTN9OgQ7e"
      },
      "source": [
        "import sys\n",
        "# Gerando um arquivo excel a partir de um Dataframe\n",
        "df.to_excel('teste-df-output.xlsx', sheet_name='Sheet1')"
      ],
      "execution_count": null,
      "outputs": []
    },
    {
      "cell_type": "code",
      "metadata": {
        "id": "w_Oc2wETgalK"
      },
      "source": [
        "# Lendo o arquivo excel para um Dataframe\n",
        "newDf2 = pd.read_excel('teste-df-output.xlsx', 'Sheet1', index_col = None, na_values = ['NA'])\n",
        "newDf2.head()\n"
      ],
      "execution_count": null,
      "outputs": []
    },
    {
      "cell_type": "code",
      "metadata": {
        "id": "bCaey-ulhzak"
      },
      "source": [
        "df['ds_semana_notificacao'].hist()"
      ],
      "execution_count": null,
      "outputs": []
    },
    {
      "cell_type": "code",
      "metadata": {
        "id": "AcGox-RQDrn6"
      },
      "source": [
        "\n",
        "df.describe()"
      ],
      "execution_count": null,
      "outputs": []
    },
    {
      "cell_type": "code",
      "metadata": {
        "id": "4LNlmkFIPOj0"
      },
      "source": [
        "# Principais municípios afetados pela zica\n",
        "df['co_municipio_notificacao'].value_counts().head(5)"
      ],
      "execution_count": null,
      "outputs": []
    },
    {
      "cell_type": "code",
      "metadata": {
        "id": "XNk4765RGyeW"
      },
      "source": [
        "pd.set_option('display.max_columns',None)\n",
        "pd.set_option('display.max_rows',None)\n",
        "\n",
        "df"
      ],
      "execution_count": null,
      "outputs": []
    },
    {
      "cell_type": "code",
      "metadata": {
        "id": "STiotPlmHU65"
      },
      "source": [
        "import pandas as pd\n",
        "import numpy as np\n",
        "\n",
        "\n",
        "std = np.std(df)\n",
        "\n",
        "print(std)"
      ],
      "execution_count": null,
      "outputs": []
    },
    {
      "cell_type": "code",
      "metadata": {
        "id": "C2vnaedVIpaO"
      },
      "source": [
        "Corr_Matrix = round(df.corr(),2)\n",
        "\n",
        "print(Corr_Matrix)"
      ],
      "execution_count": null,
      "outputs": []
    }
  ]
}